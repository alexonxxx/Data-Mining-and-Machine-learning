{
 "cells": [
  {
   "cell_type": "markdown",
   "metadata": {},
   "source": [
    "## Preprocesado II"
   ]
  },
  {
   "cell_type": "markdown",
   "metadata": {},
   "source": [
    "### KDD99\n",
    "\n",
    "Ha sido usado en artículos de investigación 133 veces en el tiempo comprendido solamente entre los años 2010 y 2015, como lo publica el paper ‘A Review of KDD99 Dataset Usage in Intrusion Detection and Machine Learning between 2010 and 2015’. La historia del dataset KDD99, comienza con un anterior conjunto de datos, llamado DARPA creado entre 1998 y 1999.\n",
    "\n",
    "\n",
    "El Grupo de ciberseguridad y ciencias de la información del laboratorio Lincoln del MIT, con el patrocinio de la Agencia de proyectos de investigación avanzados de defensa (DARPA) y también coordinados con el Laboratorio de las Fuerzas aérea de los EEUU, recogen y distribuyen el primer estándar para la evaluación de sistemas de detección de intrusos en la red.\n",
    "\n",
    "Siendo la primera evaluación formal, respetable y estadísticamente significativa de los sistemas de detección de intrusos.\n",
    "\n",
    "Teniendo en cuenta que no se puede conocer con total exactitud si una conexión es maliciosa o no en el mundo real, los datos fueron creados artificialmente en un entorno cerrado con generadores de trafico de red e inyecciones de ataques de red. Su objetivo fue el de simular el tráfico de red de una base de tamaño medio de la Fuerza aérea de los EEUU.\n",
    "\n",
    "El dataset DARPA, una vez creado, se encontraba disponible al uso público, pero sus datos eran difíciles de utilizar directamente por gran parte de los investigadores de minería de datos debido a que se encontraban en ficheros tcpdump.\n",
    "\n",
    "Salvatore J. Stolfo y Wenke Lee, crearon el dataset KDD99, a partir del conjunto de datos DARPA, las trazas de red fueron convertidas en registros de red, generando features con el software Bro IDS, haciendo que los datos fuesen más adecuados para que los investigadores de minería de datos, pudiendo realizar su trabajo."
   ]
  },
  {
   "cell_type": "code",
   "execution_count": 1,
   "metadata": {},
   "outputs": [],
   "source": [
    "import pandas as pd\n",
    "import matplotlib as plt\n",
    "import seaborn as sns"
   ]
  },
  {
   "cell_type": "code",
   "execution_count": 2,
   "metadata": {},
   "outputs": [],
   "source": [
    "kdd = pd.read_csv('ht tps://goo.gl/HrnDk5')"
   ]
  },
  {
   "cell_type": "code",
   "execution_count": 3,
   "metadata": {},
   "outputs": [
    {
     "data": {
      "text/html": [
       "<div>\n",
       "<style scoped>\n",
       "    .dataframe tbody tr th:only-of-type {\n",
       "        vertical-align: middle;\n",
       "    }\n",
       "\n",
       "    .dataframe tbody tr th {\n",
       "        vertical-align: top;\n",
       "    }\n",
       "\n",
       "    .dataframe thead th {\n",
       "        text-align: right;\n",
       "    }\n",
       "</style>\n",
       "<table border=\"1\" class=\"dataframe\">\n",
       "  <thead>\n",
       "    <tr style=\"text-align: right;\">\n",
       "      <th></th>\n",
       "      <th>duration</th>\n",
       "      <th>protocol_type</th>\n",
       "      <th>service</th>\n",
       "      <th>flag</th>\n",
       "      <th>src_bytes</th>\n",
       "      <th>dst_bytes</th>\n",
       "      <th>land</th>\n",
       "      <th>wrong_fragment</th>\n",
       "      <th>urgent</th>\n",
       "      <th>hot</th>\n",
       "      <th>...</th>\n",
       "      <th>dst_host_srv_count</th>\n",
       "      <th>dst_host_same_srv_rate</th>\n",
       "      <th>dst_host_diff_srv_rate</th>\n",
       "      <th>dst_host_same_src_port_rate</th>\n",
       "      <th>dst_host_srv_diff_host_rate</th>\n",
       "      <th>dst_host_serror_rate</th>\n",
       "      <th>dst_host_srv_serror_rate</th>\n",
       "      <th>dst_host_rerror_rate</th>\n",
       "      <th>dst_host_srv_rerror_rate</th>\n",
       "      <th>label</th>\n",
       "    </tr>\n",
       "  </thead>\n",
       "  <tbody>\n",
       "    <tr>\n",
       "      <th>0</th>\n",
       "      <td>0</td>\n",
       "      <td>tcp</td>\n",
       "      <td>http</td>\n",
       "      <td>SF</td>\n",
       "      <td>181</td>\n",
       "      <td>5450</td>\n",
       "      <td>0</td>\n",
       "      <td>0</td>\n",
       "      <td>0</td>\n",
       "      <td>0</td>\n",
       "      <td>...</td>\n",
       "      <td>9</td>\n",
       "      <td>1.0</td>\n",
       "      <td>0.0</td>\n",
       "      <td>0.11</td>\n",
       "      <td>0.0</td>\n",
       "      <td>0.0</td>\n",
       "      <td>0.0</td>\n",
       "      <td>0.0</td>\n",
       "      <td>0.0</td>\n",
       "      <td>normal</td>\n",
       "    </tr>\n",
       "    <tr>\n",
       "      <th>1</th>\n",
       "      <td>0</td>\n",
       "      <td>tcp</td>\n",
       "      <td>http</td>\n",
       "      <td>SF</td>\n",
       "      <td>239</td>\n",
       "      <td>486</td>\n",
       "      <td>0</td>\n",
       "      <td>0</td>\n",
       "      <td>0</td>\n",
       "      <td>0</td>\n",
       "      <td>...</td>\n",
       "      <td>19</td>\n",
       "      <td>1.0</td>\n",
       "      <td>0.0</td>\n",
       "      <td>0.05</td>\n",
       "      <td>0.0</td>\n",
       "      <td>0.0</td>\n",
       "      <td>0.0</td>\n",
       "      <td>0.0</td>\n",
       "      <td>0.0</td>\n",
       "      <td>normal</td>\n",
       "    </tr>\n",
       "    <tr>\n",
       "      <th>2</th>\n",
       "      <td>0</td>\n",
       "      <td>tcp</td>\n",
       "      <td>http</td>\n",
       "      <td>SF</td>\n",
       "      <td>235</td>\n",
       "      <td>1337</td>\n",
       "      <td>0</td>\n",
       "      <td>0</td>\n",
       "      <td>0</td>\n",
       "      <td>0</td>\n",
       "      <td>...</td>\n",
       "      <td>29</td>\n",
       "      <td>1.0</td>\n",
       "      <td>0.0</td>\n",
       "      <td>0.03</td>\n",
       "      <td>0.0</td>\n",
       "      <td>0.0</td>\n",
       "      <td>0.0</td>\n",
       "      <td>0.0</td>\n",
       "      <td>0.0</td>\n",
       "      <td>normal</td>\n",
       "    </tr>\n",
       "    <tr>\n",
       "      <th>3</th>\n",
       "      <td>0</td>\n",
       "      <td>tcp</td>\n",
       "      <td>http</td>\n",
       "      <td>SF</td>\n",
       "      <td>219</td>\n",
       "      <td>1337</td>\n",
       "      <td>0</td>\n",
       "      <td>0</td>\n",
       "      <td>0</td>\n",
       "      <td>0</td>\n",
       "      <td>...</td>\n",
       "      <td>39</td>\n",
       "      <td>1.0</td>\n",
       "      <td>0.0</td>\n",
       "      <td>0.03</td>\n",
       "      <td>0.0</td>\n",
       "      <td>0.0</td>\n",
       "      <td>0.0</td>\n",
       "      <td>0.0</td>\n",
       "      <td>0.0</td>\n",
       "      <td>normal</td>\n",
       "    </tr>\n",
       "    <tr>\n",
       "      <th>4</th>\n",
       "      <td>0</td>\n",
       "      <td>tcp</td>\n",
       "      <td>http</td>\n",
       "      <td>SF</td>\n",
       "      <td>217</td>\n",
       "      <td>2032</td>\n",
       "      <td>0</td>\n",
       "      <td>0</td>\n",
       "      <td>0</td>\n",
       "      <td>0</td>\n",
       "      <td>...</td>\n",
       "      <td>49</td>\n",
       "      <td>1.0</td>\n",
       "      <td>0.0</td>\n",
       "      <td>0.02</td>\n",
       "      <td>0.0</td>\n",
       "      <td>0.0</td>\n",
       "      <td>0.0</td>\n",
       "      <td>0.0</td>\n",
       "      <td>0.0</td>\n",
       "      <td>normal</td>\n",
       "    </tr>\n",
       "  </tbody>\n",
       "</table>\n",
       "<p>5 rows × 42 columns</p>\n",
       "</div>"
      ],
      "text/plain": [
       "   duration protocol_type service flag  src_bytes  dst_bytes  land  \\\n",
       "0         0           tcp    http   SF        181       5450     0   \n",
       "1         0           tcp    http   SF        239        486     0   \n",
       "2         0           tcp    http   SF        235       1337     0   \n",
       "3         0           tcp    http   SF        219       1337     0   \n",
       "4         0           tcp    http   SF        217       2032     0   \n",
       "\n",
       "   wrong_fragment  urgent  hot   ...    dst_host_srv_count  \\\n",
       "0               0       0    0   ...                     9   \n",
       "1               0       0    0   ...                    19   \n",
       "2               0       0    0   ...                    29   \n",
       "3               0       0    0   ...                    39   \n",
       "4               0       0    0   ...                    49   \n",
       "\n",
       "   dst_host_same_srv_rate  dst_host_diff_srv_rate  \\\n",
       "0                     1.0                     0.0   \n",
       "1                     1.0                     0.0   \n",
       "2                     1.0                     0.0   \n",
       "3                     1.0                     0.0   \n",
       "4                     1.0                     0.0   \n",
       "\n",
       "   dst_host_same_src_port_rate  dst_host_srv_diff_host_rate  \\\n",
       "0                         0.11                          0.0   \n",
       "1                         0.05                          0.0   \n",
       "2                         0.03                          0.0   \n",
       "3                         0.03                          0.0   \n",
       "4                         0.02                          0.0   \n",
       "\n",
       "   dst_host_serror_rate  dst_host_srv_serror_rate  dst_host_rerror_rate  \\\n",
       "0                   0.0                       0.0                   0.0   \n",
       "1                   0.0                       0.0                   0.0   \n",
       "2                   0.0                       0.0                   0.0   \n",
       "3                   0.0                       0.0                   0.0   \n",
       "4                   0.0                       0.0                   0.0   \n",
       "\n",
       "   dst_host_srv_rerror_rate   label  \n",
       "0                       0.0  normal  \n",
       "1                       0.0  normal  \n",
       "2                       0.0  normal  \n",
       "3                       0.0  normal  \n",
       "4                       0.0  normal  \n",
       "\n",
       "[5 rows x 42 columns]"
      ]
     },
     "execution_count": 3,
     "metadata": {},
     "output_type": "execute_result"
    }
   ],
   "source": [
    "kdd.head()"
   ]
  },
  {
   "cell_type": "code",
   "execution_count": 4,
   "metadata": {},
   "outputs": [
    {
     "data": {
      "text/plain": [
       "(494020, 42)"
      ]
     },
     "execution_count": 4,
     "metadata": {},
     "output_type": "execute_result"
    }
   ],
   "source": [
    "kdd.shape"
   ]
  },
  {
   "cell_type": "code",
   "execution_count": 6,
   "metadata": {},
   "outputs": [
    {
     "data": {
      "text/plain": [
       "False"
      ]
     },
     "execution_count": 6,
     "metadata": {},
     "output_type": "execute_result"
    }
   ],
   "source": [
    "kdd.isnull().any().any()"
   ]
  },
  {
   "cell_type": "code",
   "execution_count": 10,
   "metadata": {},
   "outputs": [
    {
     "data": {
      "text/plain": [
       "duration                         int64\n",
       "protocol_type                   object\n",
       "service                         object\n",
       "flag                            object\n",
       "src_bytes                        int64\n",
       "dst_bytes                        int64\n",
       "land                             int64\n",
       "wrong_fragment                   int64\n",
       "urgent                           int64\n",
       "hot                              int64\n",
       "num_failed_logins                int64\n",
       "logged_in                        int64\n",
       "lnum_compromised                 int64\n",
       "lroot_shell                      int64\n",
       "lsu_attempted                    int64\n",
       "lnum_root                        int64\n",
       "lnum_file_creations              int64\n",
       "lnum_shells                      int64\n",
       "lnum_access_files                int64\n",
       "lnum_outbound_cmds               int64\n",
       "is_host_login                    int64\n",
       "is_guest_login                   int64\n",
       "count                            int64\n",
       "srv_count                        int64\n",
       "serror_rate                    float64\n",
       "srv_serror_rate                float64\n",
       "rerror_rate                    float64\n",
       "srv_rerror_rate                float64\n",
       "same_srv_rate                  float64\n",
       "diff_srv_rate                  float64\n",
       "srv_diff_host_rate             float64\n",
       "dst_host_count                   int64\n",
       "dst_host_srv_count               int64\n",
       "dst_host_same_srv_rate         float64\n",
       "dst_host_diff_srv_rate         float64\n",
       "dst_host_same_src_port_rate    float64\n",
       "dst_host_srv_diff_host_rate    float64\n",
       "dst_host_serror_rate           float64\n",
       "dst_host_srv_serror_rate       float64\n",
       "dst_host_rerror_rate           float64\n",
       "dst_host_srv_rerror_rate       float64\n",
       "label                           object\n",
       "dtype: object"
      ]
     },
     "execution_count": 10,
     "metadata": {},
     "output_type": "execute_result"
    }
   ],
   "source": [
    "kdd.dtypes"
   ]
  },
  {
   "cell_type": "code",
   "execution_count": 11,
   "metadata": {},
   "outputs": [
    {
     "name": "stdout",
     "output_type": "stream",
     "text": [
      "lnum_outbound_cmds\n",
      "is_host_login\n"
     ]
    }
   ],
   "source": [
    "for col_name in kdd.columns:  \n",
    "    unique_val = len(kdd[col_name].unique())\n",
    "    if unique_val == 1:       \n",
    "        print(col_name)"
   ]
  },
  {
   "cell_type": "code",
   "execution_count": 12,
   "metadata": {},
   "outputs": [
    {
     "data": {
      "text/plain": [
       "0    494020\n",
       "Name: lnum_outbound_cmds, dtype: int64"
      ]
     },
     "execution_count": 12,
     "metadata": {},
     "output_type": "execute_result"
    }
   ],
   "source": [
    "kdd[\"lnum_outbound_cmds\"].value_counts()"
   ]
  },
  {
   "cell_type": "code",
   "execution_count": 13,
   "metadata": {},
   "outputs": [
    {
     "data": {
      "text/plain": [
       "0    494020\n",
       "Name: is_host_login, dtype: int64"
      ]
     },
     "execution_count": 13,
     "metadata": {},
     "output_type": "execute_result"
    }
   ],
   "source": [
    "kdd[\"is_host_login\"].value_counts()"
   ]
  },
  {
   "cell_type": "code",
   "execution_count": 14,
   "metadata": {},
   "outputs": [],
   "source": [
    "kdd.drop(['lnum_outbound_cmds'], axis=1, inplace=True)"
   ]
  },
  {
   "cell_type": "code",
   "execution_count": 15,
   "metadata": {},
   "outputs": [],
   "source": [
    "kdd.drop(['is_host_login'], axis=1, inplace=True)"
   ]
  },
  {
   "cell_type": "code",
   "execution_count": 16,
   "metadata": {},
   "outputs": [
    {
     "data": {
      "text/plain": [
       "40"
      ]
     },
     "execution_count": 16,
     "metadata": {},
     "output_type": "execute_result"
    }
   ],
   "source": [
    "kdd.shape[1]"
   ]
  },
  {
   "cell_type": "code",
   "execution_count": 17,
   "metadata": {},
   "outputs": [
    {
     "data": {
      "text/plain": [
       "smurf              280790\n",
       "neptune            107201\n",
       "normal              97277\n",
       "back                 2203\n",
       "satan                1589\n",
       "ipsweep              1247\n",
       "portsweep            1040\n",
       "warezclient          1020\n",
       "teardrop              979\n",
       "pod                   264\n",
       "nmap                  231\n",
       "guess_passwd           53\n",
       "buffer_overflow        30\n",
       "land                   21\n",
       "warezmaster            20\n",
       "imap                   12\n",
       "rootkit                10\n",
       "loadmodule              9\n",
       "ftp_write               8\n",
       "multihop                7\n",
       "phf                     4\n",
       "perl                    3\n",
       "spy                     2\n",
       "Name: label, dtype: int64"
      ]
     },
     "execution_count": 17,
     "metadata": {},
     "output_type": "execute_result"
    }
   ],
   "source": [
    "kdd[\"label\"].value_counts()"
   ]
  },
  {
   "cell_type": "code",
   "execution_count": 19,
   "metadata": {},
   "outputs": [
    {
     "name": "stdout",
     "output_type": "stream",
     "text": [
      "Grouping of values with little frequency finished\n"
     ]
    }
   ],
   "source": [
    "# Grouping of values with little frequency \n",
    "def grouping(x):   \n",
    "    if x == 'smurf':    \n",
    "        return 'smurf'  \n",
    "    if x == 'neptune':    \n",
    "        return 'neptune'  \n",
    "    if x == 'normal':    \n",
    "        return 'normal' \n",
    "    if x == 'back':     \n",
    "        return 'back'   \n",
    "    if x == 'satan':     \n",
    "        return 'satan'  \n",
    "    if x == 'ipsweep':   \n",
    "        return 'ipsweep'  \n",
    "    if x == 'portsweep':   \n",
    "        return 'portsweep'  \n",
    "    if x == 'warezclient':   \n",
    "        return 'warezclient'  \n",
    "    if x == 'teardrop':     \n",
    "        return 'teardrop'  \n",
    "    if x == 'pod':     \n",
    "        return 'pod'  \n",
    "    if x == 'nmap':    \n",
    "        return 'nmap' \n",
    "    else:     \n",
    "        return 'other'\n",
    "kdd['label'] = kdd['label'].apply(grouping) \n",
    "print ('Grouping of values with little frequency finished')"
   ]
  },
  {
   "cell_type": "code",
   "execution_count": 20,
   "metadata": {},
   "outputs": [
    {
     "data": {
      "text/plain": [
       "smurf          280790\n",
       "neptune        107201\n",
       "normal          97277\n",
       "back             2203\n",
       "satan            1589\n",
       "ipsweep          1247\n",
       "portsweep        1040\n",
       "warezclient      1020\n",
       "teardrop          979\n",
       "pod               264\n",
       "nmap              231\n",
       "other             179\n",
       "Name: label, dtype: int64"
      ]
     },
     "execution_count": 20,
     "metadata": {},
     "output_type": "execute_result"
    }
   ],
   "source": [
    "kdd[\"label\"].value_counts()"
   ]
  },
  {
   "cell_type": "code",
   "execution_count": 24,
   "metadata": {},
   "outputs": [
    {
     "data": {
      "text/plain": [
       "['back',\n",
       " 'ipsweep',\n",
       " 'neptune',\n",
       " 'nmap',\n",
       " 'normal',\n",
       " 'other',\n",
       " 'pod',\n",
       " 'portsweep',\n",
       " 'satan',\n",
       " 'smurf',\n",
       " 'teardrop',\n",
       " 'warezclient']"
      ]
     },
     "execution_count": 24,
     "metadata": {},
     "output_type": "execute_result"
    }
   ],
   "source": [
    "from sklearn.preprocessing import LabelEncoder\n",
    "LE = LabelEncoder()\n",
    "LE.fit(kdd[\"label\"])\n",
    "list(LE.classes_)"
   ]
  },
  {
   "cell_type": "code",
   "execution_count": 25,
   "metadata": {},
   "outputs": [],
   "source": [
    "kdd[\"label\"] = LE.transform(kdd[\"label\"])"
   ]
  },
  {
   "cell_type": "code",
   "execution_count": 26,
   "metadata": {},
   "outputs": [
    {
     "data": {
      "text/plain": [
       "9     280790\n",
       "2     107201\n",
       "4      97277\n",
       "0       2203\n",
       "8       1589\n",
       "1       1247\n",
       "7       1040\n",
       "11      1020\n",
       "10       979\n",
       "6        264\n",
       "3        231\n",
       "5        179\n",
       "Name: label, dtype: int64"
      ]
     },
     "execution_count": 26,
     "metadata": {},
     "output_type": "execute_result"
    }
   ],
   "source": [
    "kdd[\"label\"].value_counts()"
   ]
  },
  {
   "cell_type": "code",
   "execution_count": 35,
   "metadata": {},
   "outputs": [
    {
     "name": "stdout",
     "output_type": "stream",
     "text": [
      "Feature 'protocol_type' = 3 unique categories\n",
      "Feature 'service' = 66 unique categories\n",
      "Feature 'flag' = 11 unique categories\n"
     ]
    }
   ],
   "source": [
    "for col_name in kdd.columns: \n",
    "    if kdd[col_name].dtypes == 'object':\n",
    "        unique_cat = len(kdd[col_name].unique()) \n",
    "        print(\"Feature '{col_name}' = {unique_cat} unique categories\".format(col_name=col_name, unique_cat=unique_cat))\n"
   ]
  },
  {
   "cell_type": "code",
   "execution_count": 36,
   "metadata": {},
   "outputs": [
    {
     "data": {
      "text/html": [
       "<div>\n",
       "<style scoped>\n",
       "    .dataframe tbody tr th:only-of-type {\n",
       "        vertical-align: middle;\n",
       "    }\n",
       "\n",
       "    .dataframe tbody tr th {\n",
       "        vertical-align: top;\n",
       "    }\n",
       "\n",
       "    .dataframe thead th {\n",
       "        text-align: right;\n",
       "    }\n",
       "</style>\n",
       "<table border=\"1\" class=\"dataframe\">\n",
       "  <thead>\n",
       "    <tr style=\"text-align: right;\">\n",
       "      <th></th>\n",
       "      <th>protocol_type</th>\n",
       "      <th>service</th>\n",
       "      <th>flag</th>\n",
       "    </tr>\n",
       "  </thead>\n",
       "  <tbody>\n",
       "    <tr>\n",
       "      <th>0</th>\n",
       "      <td>tcp</td>\n",
       "      <td>http</td>\n",
       "      <td>SF</td>\n",
       "    </tr>\n",
       "    <tr>\n",
       "      <th>1</th>\n",
       "      <td>tcp</td>\n",
       "      <td>http</td>\n",
       "      <td>SF</td>\n",
       "    </tr>\n",
       "    <tr>\n",
       "      <th>2</th>\n",
       "      <td>tcp</td>\n",
       "      <td>http</td>\n",
       "      <td>SF</td>\n",
       "    </tr>\n",
       "    <tr>\n",
       "      <th>3</th>\n",
       "      <td>tcp</td>\n",
       "      <td>http</td>\n",
       "      <td>SF</td>\n",
       "    </tr>\n",
       "    <tr>\n",
       "      <th>4</th>\n",
       "      <td>tcp</td>\n",
       "      <td>http</td>\n",
       "      <td>SF</td>\n",
       "    </tr>\n",
       "  </tbody>\n",
       "</table>\n",
       "</div>"
      ],
      "text/plain": [
       "  protocol_type service flag\n",
       "0           tcp    http   SF\n",
       "1           tcp    http   SF\n",
       "2           tcp    http   SF\n",
       "3           tcp    http   SF\n",
       "4           tcp    http   SF"
      ]
     },
     "execution_count": 36,
     "metadata": {},
     "output_type": "execute_result"
    }
   ],
   "source": [
    "kdd.select_dtypes(include=['object']).head()"
   ]
  },
  {
   "cell_type": "code",
   "execution_count": 37,
   "metadata": {},
   "outputs": [
    {
     "data": {
      "text/plain": [
       "ecr_i          281400\n",
       "private        110893\n",
       "http            64292\n",
       "smtp             9723\n",
       "other            7237\n",
       "domain_u         5863\n",
       "ftp_data         4721\n",
       "eco_i            1642\n",
       "ftp               798\n",
       "finger            670\n",
       "urp_i             538\n",
       "telnet            513\n",
       "ntp_u             380\n",
       "auth              328\n",
       "pop_3             202\n",
       "time              157\n",
       "csnet_ns          126\n",
       "remote_job        120\n",
       "gopher            117\n",
       "imap4             117\n",
       "domain            116\n",
       "discard           116\n",
       "iso_tsap          115\n",
       "systat            115\n",
       "echo              112\n",
       "shell             112\n",
       "rje               111\n",
       "whois             110\n",
       "sql_net           110\n",
       "printer           109\n",
       "                ...  \n",
       "uucp_path         106\n",
       "uucp              106\n",
       "bgp               106\n",
       "klogin            106\n",
       "nnsp              105\n",
       "ssh               105\n",
       "supdup            105\n",
       "login             104\n",
       "hostnames         104\n",
       "efs               103\n",
       "daytime           103\n",
       "link              102\n",
       "netbios_ns        102\n",
       "ldap              101\n",
       "pop_2             101\n",
       "exec               99\n",
       "netbios_dgm        99\n",
       "http_443           99\n",
       "name               98\n",
       "kshell             98\n",
       "ctf                97\n",
       "netstat            95\n",
       "Z39_50             92\n",
       "IRC                43\n",
       "urh_i              14\n",
       "X11                11\n",
       "tim_i               7\n",
       "tftp_u              1\n",
       "red_i               1\n",
       "pm_dump             1\n",
       "Name: service, Length: 66, dtype: int64"
      ]
     },
     "execution_count": 37,
     "metadata": {},
     "output_type": "execute_result"
    }
   ],
   "source": [
    "kdd[\"service\"].value_counts()"
   ]
  },
  {
   "cell_type": "code",
   "execution_count": 38,
   "metadata": {},
   "outputs": [],
   "source": [
    "dummies = pd.get_dummies(kdd[\"protocol_type\"]) \n",
    "kdd = pd.concat([kdd, dummies], axis=1) \n",
    "del kdd[\"protocol_type\"]"
   ]
  },
  {
   "cell_type": "code",
   "execution_count": 39,
   "metadata": {},
   "outputs": [],
   "source": [
    "dummies = pd.get_dummies(kdd[\"service\"])\n",
    "kdd = pd.concat([kdd, dummies], axis=1)\n",
    "del kdd[\"service\"] "
   ]
  },
  {
   "cell_type": "code",
   "execution_count": 40,
   "metadata": {},
   "outputs": [],
   "source": [
    "dummies = pd.get_dummies(kdd[\"flag\"])\n",
    "kdd = pd.concat([kdd, dummies], axis=1)\n",
    "del kdd[\"flag\"] "
   ]
  },
  {
   "cell_type": "code",
   "execution_count": 41,
   "metadata": {},
   "outputs": [],
   "source": [
    "X = kdd.drop(\"label\", 1)\n"
   ]
  },
  {
   "cell_type": "code",
   "execution_count": 42,
   "metadata": {},
   "outputs": [],
   "source": [
    "y = kdd[\"label\"]"
   ]
  },
  {
   "cell_type": "code",
   "execution_count": 43,
   "metadata": {},
   "outputs": [],
   "source": [
    "from sklearn.model_selection import train_test_split\n",
    "X_train, X_test, y_train, y_test = train_test_split(X, y, test_size=0.30, random_state=1, stratify=y)\n"
   ]
  },
  {
   "cell_type": "code",
   "execution_count": 44,
   "metadata": {},
   "outputs": [],
   "source": [
    "from sklearn.model_selection import cross_val_score"
   ]
  },
  {
   "cell_type": "code",
   "execution_count": 45,
   "metadata": {},
   "outputs": [],
   "source": [
    "from sklearn.tree import DecisionTreeClassifier \n",
    "DTC = DecisionTreeClassifier(random_state=1)"
   ]
  },
  {
   "cell_type": "code",
   "execution_count": 50,
   "metadata": {},
   "outputs": [
    {
     "name": "stdout",
     "output_type": "stream",
     "text": [
      "[0.99957493 0.99949685 0.99962695] Árbol de decisión - Datos de entrenamiento\n"
     ]
    }
   ],
   "source": [
    "print(cross_val_score(DTC, X_train, y_train, cv=3, scoring='accuracy'), \"Árbol de decisión - Datos de entrenamiento\")"
   ]
  },
  {
   "cell_type": "code",
   "execution_count": 51,
   "metadata": {},
   "outputs": [
    {
     "data": {
      "text/plain": [
       "DecisionTreeClassifier(class_weight=None, criterion='gini', max_depth=None,\n",
       "            max_features=None, max_leaf_nodes=None,\n",
       "            min_impurity_decrease=0.0, min_impurity_split=None,\n",
       "            min_samples_leaf=1, min_samples_split=2,\n",
       "            min_weight_fraction_leaf=0.0, presort=False, random_state=1,\n",
       "            splitter='best')"
      ]
     },
     "execution_count": 51,
     "metadata": {},
     "output_type": "execute_result"
    }
   ],
   "source": [
    "DTC.fit(X_train, y_train)"
   ]
  },
  {
   "cell_type": "code",
   "execution_count": 52,
   "metadata": {},
   "outputs": [],
   "source": [
    "y_test_pred = DTC.predict(X_test)"
   ]
  },
  {
   "cell_type": "code",
   "execution_count": 53,
   "metadata": {},
   "outputs": [],
   "source": [
    "from sklearn import metrics"
   ]
  },
  {
   "cell_type": "code",
   "execution_count": 54,
   "metadata": {},
   "outputs": [
    {
     "name": "stdout",
     "output_type": "stream",
     "text": [
      "0.9996626317423046 Árbol de decisión - Datos de test\n"
     ]
    }
   ],
   "source": [
    "print(metrics.accuracy_score(y_test, y_test_pred), \"Árbol de decisión - Datos de test\")\n"
   ]
  },
  {
   "cell_type": "code",
   "execution_count": 56,
   "metadata": {},
   "outputs": [
    {
     "name": "stdout",
     "output_type": "stream",
     "text": [
      "duration 0.00011826099488086687\n",
      "src_bytes 0.007204472957071258\n",
      "dst_bytes 0.0006473859151003633\n",
      "land 9.680969171038845e-06\n",
      "wrong_fragment 0.006618004455340361\n",
      "urgent 0.0\n",
      "hot 0.0016118432880662839\n",
      "num_failed_logins 0.00032767338192025443\n",
      "logged_in 2.7438053492070796e-05\n",
      "lnum_compromised 0.012982459307259803\n",
      "lroot_shell 2.9806542263293217e-05\n",
      "lsu_attempted 0.0\n",
      "lnum_root 2.008094361766279e-05\n",
      "lnum_file_creations 3.196382479462524e-05\n",
      "lnum_shells 9.577980137304436e-06\n",
      "lnum_access_files 9.590411928706086e-06\n",
      "is_guest_login 0.00015824329078476508\n",
      "count 0.0001414382983742737\n",
      "srv_count 0.6047664215645189\n",
      "serror_rate 0.0002530516847069509\n",
      "srv_serror_rate 8.387437647606245e-06\n",
      "rerror_rate 0.00025531246023770406\n",
      "srv_rerror_rate 1.8553590633219443e-05\n",
      "same_srv_rate 0.32605842388196493\n",
      "diff_srv_rate 0.0003562354699174849\n",
      "srv_diff_host_rate 9.622254856837166e-06\n",
      "dst_host_count 0.00027842071308286585\n",
      "dst_host_srv_count 0.0001532314993875599\n",
      "dst_host_same_srv_rate 0.00025183257402315676\n",
      "dst_host_diff_srv_rate 0.011429436233197515\n",
      "dst_host_same_src_port_rate 0.0013432020036602244\n",
      "dst_host_srv_diff_host_rate 0.007201464616478705\n",
      "dst_host_serror_rate 0.006473215136668798\n",
      "dst_host_srv_serror_rate 0.00010309540663783608\n",
      "dst_host_rerror_rate 1.80050328168614e-05\n",
      "dst_host_srv_rerror_rate 1.9351499267910778e-05\n",
      "label 0.0\n",
      "icmp 0.0\n",
      "tcp 4.892671961103641e-06\n",
      "udp 0.0\n",
      "IRC 0.0\n",
      "X11 0.0\n",
      "Z39_50 0.0\n",
      "auth 0.0\n",
      "bgp 0.0\n",
      "courier 0.0\n",
      "csnet_ns 0.0\n",
      "ctf 0.0\n",
      "daytime 0.0\n",
      "discard 0.0\n",
      "domain 0.0\n",
      "domain_u 0.0\n",
      "echo 0.001013319684396971\n",
      "eco_i 0.00045905639541298995\n",
      "ecr_i 0.0\n",
      "efs 0.0\n",
      "exec 0.0\n",
      "finger 2.570552785879561e-05\n",
      "ftp 0.003310097224480341\n",
      "ftp_data 0.0\n",
      "gopher 0.0\n",
      "hostnames 7.828275137765824e-06\n",
      "http 0.0\n",
      "http_443 4.745496444419094e-05\n",
      "imap4 0.0\n",
      "iso_tsap 0.0\n",
      "klogin 0.0\n",
      "kshell 0.0\n",
      "ldap 0.0\n",
      "link 0.0\n",
      "login 0.0\n",
      "mtp 0.0\n",
      "name 0.0\n",
      "netbios_dgm 0.0\n",
      "netbios_ns 0.0\n",
      "netbios_ssn 0.0\n",
      "netstat 0.0\n",
      "nnsp 0.0\n",
      "nntp 0.0\n",
      "ntp_u 1.620487520388759e-06\n",
      "other 0.0\n",
      "pm_dump 0.0\n",
      "pop_2 0.0\n",
      "pop_3 0.0\n",
      "printer 0.0005699870670621158\n",
      "private 0.0\n",
      "red_i 0.0\n",
      "remote_job 0.0\n",
      "rje 0.0\n",
      "shell 0.0\n",
      "smtp 0.0\n",
      "sql_net 0.0\n",
      "ssh 0.0\n",
      "sunrpc 0.0\n",
      "supdup 0.0\n",
      "systat 5.277395475075685e-06\n",
      "telnet 0.0\n",
      "tftp_u 0.0\n",
      "tim_i 0.0\n",
      "time 0.0\n",
      "urh_i 0.0\n",
      "urp_i 0.0\n",
      "uucp 0.0\n",
      "uucp_path 0.0\n",
      "vmnet 0.0\n",
      "whois 4.063266443055446e-05\n",
      "OTH 0.0\n",
      "REJ 0.0\n",
      "RSTO 9.76856051307773e-06\n",
      "RSTOS0 0.004681602211623731\n",
      "RSTR 0.0005867001132487999\n",
      "S0 0.0\n",
      "S1 8.895767202006621e-06\n",
      "S2 0.0\n",
      "S3 0.00028197731532421725\n",
      "SF 0.0\n"
     ]
    }
   ],
   "source": [
    "for name, importance in zip(kdd.columns, DTC.feature_importances_): \n",
    "    print(name, importance)"
   ]
  },
  {
   "cell_type": "code",
   "execution_count": 58,
   "metadata": {},
   "outputs": [],
   "source": [
    "from sklearn.metrics import classification_report"
   ]
  },
  {
   "cell_type": "code",
   "execution_count": 61,
   "metadata": {},
   "outputs": [],
   "source": [
    "class_names = ['back',\n",
    " 'ipsweep',\n",
    " 'neptune',\n",
    " 'nmap',\n",
    " 'normal',\n",
    " 'other',\n",
    " 'pod',\n",
    " 'portsweep',\n",
    " 'satan',\n",
    " 'smurf',\n",
    " 'teardrop',\n",
    " 'warezclient']\n"
   ]
  },
  {
   "cell_type": "code",
   "execution_count": 62,
   "metadata": {},
   "outputs": [
    {
     "name": "stdout",
     "output_type": "stream",
     "text": [
      "             precision    recall  f1-score   support\n",
      "\n",
      "       back       1.00      1.00      1.00       661\n",
      "    ipsweep       1.00      1.00      1.00       374\n",
      "    neptune       1.00      1.00      1.00     32160\n",
      "       nmap       0.96      0.99      0.97        69\n",
      "     normal       1.00      1.00      1.00     29183\n",
      "      other       0.84      0.80      0.82        54\n",
      "        pod       0.99      1.00      0.99        79\n",
      "  portsweep       0.99      0.99      0.99       312\n",
      "      satan       0.99      0.98      0.99       477\n",
      "      smurf       1.00      1.00      1.00     84237\n",
      "   teardrop       1.00      1.00      1.00       294\n",
      "warezclient       0.99      0.99      0.99       306\n",
      "\n",
      "avg / total       1.00      1.00      1.00    148206\n",
      "\n"
     ]
    }
   ],
   "source": [
    "print(classification_report(y_test, y_test_pred, target_names=class_names))"
   ]
  },
  {
   "cell_type": "code",
   "execution_count": null,
   "metadata": {},
   "outputs": [],
   "source": []
  }
 ],
 "metadata": {
  "kernelspec": {
   "display_name": "Python 3",
   "language": "python",
   "name": "python3"
  },
  "language_info": {
   "codemirror_mode": {
    "name": "ipython",
    "version": 3
   },
   "file_extension": ".py",
   "mimetype": "text/x-python",
   "name": "python",
   "nbconvert_exporter": "python",
   "pygments_lexer": "ipython3",
   "version": "3.7.0"
  }
 },
 "nbformat": 4,
 "nbformat_minor": 2
}
